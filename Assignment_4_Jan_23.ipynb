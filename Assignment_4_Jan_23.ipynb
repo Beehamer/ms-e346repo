{
 "cells": [
  {
   "cell_type": "markdown",
   "metadata": {},
   "source": [
    "### MS&E 346 Assignment 3\n",
    "#### January 18"
   ]
  },
  {
   "cell_type": "code",
   "execution_count": 1,
   "metadata": {},
   "outputs": [],
   "source": [
    "import numpy as np\n",
    "from scipy.linalg import eig\n",
    "import copy\n",
    "import math"
   ]
  },
  {
   "cell_type": "markdown",
   "metadata": {},
   "source": [
    "#### Question 1:\n",
    "Work out (in LaTeX) the equations for Absolute/Relative Risk Premia for CARA/CRRA respectively\n",
    "#### Answer:"
   ]
  },
  {
   "cell_type": "markdown",
   "metadata": {},
   "source": [
    "Taylor - Expansion ${U(x)}$ around ${\\bar{x}}$, ignoring the term beyond quadratic $${U(x) = U(\\bar{x}) + U'(\\bar{x})(x - \\bar{x}) + \\frac{1}{2}U''(\\bar{x})*(x - \\bar{x})^2}$$  \n",
    "Taylor - Expansion ${U(x_{CE})}$ around ${\\bar{x}}$, ignoring terms beyond linear $${U(x_{CE}) \\approx U(\\bar{x}) + U'(\\bar{x})(x_{CE} - \\bar{x})}$$  \n",
    "Taking the expectation of the ${U(x)}$ expansion, we get: $${E[U(x)] = U(\\bar{x}) + \\frac{1}{2}U''(\\bar{x})*\\sigma_x^2}$$  \n",
    "Since ${E[U(x)]} = U(x_{CE})$, the two equations above are approximately equal to each other, and therefore: $${U'(\\bar{x})(x_{CE}-\\bar{x}) \\approx \\frac{1}{2}U''(\\bar{x})*\\sigma_x^2}$$"
   ]
  },
  {
   "cell_type": "markdown",
   "metadata": {},
   "source": [
    "Therefore, the absolute risk premium, which is defined as the difference between the certain eqivalent and mean is written as $${(x_{CE}-\\bar{x}) \\approx \\frac{1}{2}\\frac{U''(\\bar{x})}{U'(\\bar{x})}*\\sigma_x^2}$$  \n",
    "The relative Risk-Aversion can be written as $${\\frac{(x_{CE}-\\bar{x})}{\\bar{x}} \\approx \\frac{1}{2}\\frac{U''(\\bar{x})}{U'(\\bar{x})\\bar{x}}*\\sigma_x^2}$$"
   ]
  },
  {
   "cell_type": "markdown",
   "metadata": {},
   "source": [
    "##### Considering the Constant Absolute Risk-Aversion (CARA)"
   ]
  },
  {
   "cell_type": "markdown",
   "metadata": {},
   "source": [
    "The utility function is written as ${U(x) = \\frac{-e^{-ax}}{a}}$, where ${a}$ not equals 0  \n",
    "and  $${\\frac{U''(\\bar{x})}{U'(\\bar{x})} = a}$$  \n",
    "The absolute risk premium $${(x_{CE}-\\bar{x}) \\approx \\frac{1}{2}\\frac{U''(\\bar{x})}{U'(\\bar{x})}*\\sigma_x^2 = \\frac{a\\sigma_x^2}{2}}$$  \n",
    "The relative risk premium $${\\frac{(x_{CE}-\\bar{x})}{\\bar{x}} \\approx \\frac{1}{2}\\frac{U''(\\bar{x})}{U'(\\bar{x})\\bar{x}}*\\sigma_x^2 = \\frac{a\\sigma_x^2}{2\\mu}}$$"
   ]
  },
  {
   "cell_type": "markdown",
   "metadata": {},
   "source": [
    "##### Considering the Constant relative Risk-Aversion (CRRA)"
   ]
  },
  {
   "cell_type": "markdown",
   "metadata": {},
   "source": [
    "The utility function ${U(x) = \\frac{x^{1-\\gamma}}{1-\\gamma}}$  \n",
    "Relative Risk-Aversion ${R(x) = \\frac{-U''(x)x}{U'(x)} = \\gamma}$ \n",
    "where ${\\gamma}$ is called Coefficient of Constant Relative Risk-Aversion (CRRA)\n",
    "Assume the distribution of ${x}$ is normal with ${x \\sim N(\\mu, \\sigma^2)}$\n",
    "Therefore, ${\\frac{\\gamma \\sigma_{\\frac{x}{\\bar{x}}}^2}{2}} = \\frac{\\sigma^2}{\\mu^2}$"
   ]
  },
  {
   "cell_type": "markdown",
   "metadata": {},
   "source": [
    "#### Question 2\n",
    "Write the solutions to Portfolio Applications covered in class with precise notation (in LaTeX)\n",
    "#### Answer:"
   ]
  },
  {
   "cell_type": "markdown",
   "metadata": {},
   "source": [
    "A portfolio application of CARA:  \n",
    "* the investment choice is choosing between a risky asset and a riskless asset. The risky asset has a annual return of ${N(\\mu, \\sigma^2)}$, whilst the riskless asset has a annual ruturn of ${r}$, say interest rate.\n",
    "Denote ${\\pi}$ as the fraction of investment to the risky asset and therefore ${1 - \\pi}$ is the investment for the riskless asset.  The portfolio will have a annual return $${W \\sim N(1 + r + \\pi(\\mu - r), \\pi^2\\sigma^2)}$$  with CARA utility of $${U(W) = \\frac{-e^{-aW}}{a}}$$  \n",
    "where $${W_{CE} = 1 + r + \\pi(\\mu - r) - \\frac{a\\pi^2\\sigma^2}{a}}$$  \n",
    "Taking partial derivative regarding $\\mu$, we have $${\\frac{\\partial{W_{CE}}}{\\partial\\mu} = (\\mu - r) - a\\pi\\sigma^2 = 0}$$  \n",
    "and the optimal $${\\pi* = \\frac{\\mu - r}{a\\sigma^2}}$$"
   ]
  },
  {
   "cell_type": "markdown",
   "metadata": {},
   "source": [
    "A portfolio application of CRRA:  \n",
    "Consider the utility function, ${U(x) = \\frac{x^{1-\\gamma}}{1-\\gamma}}$. Assume ${X}$ is log-normally distributed and the PDF of x could be written as $${f_X(x) = \\frac{1}{x}\\frac{1}{\\sigma 2\\sqrt{\\pi}}exp(-\\frac{(lnx - \\mu)^2}{2\\sigma^2})}$$\n",
    "where $${E[U(x)] = \\frac{e^{\\mu(1-\\gamma)} + \\frac{\\sigma^2}{(1 - \\gamma)^2}}{1 - \\gamma}}$$, for ${\\gamma \\neq 0}$\n",
    "Solve it we get ${x_{CE} = e^{\\mu + \\frac{\\sigma^2(1-\\gamma)}{2}}}$, and the relative risk premium is ${\\pi_R = 1 - e^{-\\frac{\\sigma^2 \\gamma}{2}}}$\n",
    "The process for wealth ${W_t}$ is given by: $${r + \\pi(\\mu - r)W_tdt + \\pi\\sigma_td_{zt}}$$.  \n",
    "Appliing Ito's Lemma, we solve ${\\pi*=\\frac{\\mu - r}{\\gamma \\sigma^2}}$\n",
    "\n"
   ]
  },
  {
   "cell_type": "code",
   "execution_count": null,
   "metadata": {},
   "outputs": [],
   "source": []
  }
 ],
 "metadata": {
  "kernelspec": {
   "display_name": "Python 3",
   "language": "python",
   "name": "python3"
  },
  "language_info": {
   "codemirror_mode": {
    "name": "ipython",
    "version": 3
   },
   "file_extension": ".py",
   "mimetype": "text/x-python",
   "name": "python",
   "nbconvert_exporter": "python",
   "pygments_lexer": "ipython3",
   "version": "3.7.1"
  }
 },
 "nbformat": 4,
 "nbformat_minor": 2
}
