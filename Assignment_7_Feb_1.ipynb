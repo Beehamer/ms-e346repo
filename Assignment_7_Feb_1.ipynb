{
 "cells": [
  {
   "cell_type": "markdown",
   "metadata": {},
   "source": [
    "#### Question 1\n",
    "Work out (in LaTeX) the solution to the Linear Impact model we covered in class  \n",
    "Model a real-world Optimal Trade Order Execution problem as an MDP (with complete order book included in the State)"
   ]
  },
  {
   "cell_type": "markdown",
   "metadata": {},
   "source": [
    "A market order (MO) states intent to buy and sell N shares at the best possible prices(s) available on the OB at the time of MO submission.  \n",
    "* Price Impact and Order Book Dynamics  \n",
    "Problem notation:\n",
    "Time steps indexed by ${t = 1, ..., T}$; ${P_t}$ denotes Bid price at start of time step t; $N_t$ denotes number of shares sold in the time step t, ${R_t = N - \\sum_{i=1}^{t - 1}N_i}$ = shares remaining to be sold at the start of time step t; price dynamics given by ${P_{t+1} = f_t(P_t, N_t, \\epsilon_t)}$  \n",
    "Markov Decision process Formulation:\n",
    "Observe state ${(t, P_t, R_t)}$\n",
    "Perform action ${N_t}$\n",
    "Receive reward ${U(N_t * (P_t - g_t(P_t, N_t)))}$, where ${U}$ indicates the temporary price impact\n",
    "Experience Price dynamics ${P_{t+1} = f_t(P_t, N_t, \\\\epsilon_t)}$  \n",
    "\n",
    "Goal is to find policy ${\\pi*(t, P_t, R_t) = N_t}$ that maximizes ${E[\\sum_{t=1}^T\\gamma^t*U(N_t, Q_t)]}$  \n",
    "\n",
    "A simpel linear impact model without Risk-Aversion:  \n",
    "Price Dynamic: ${P_{t+1} = P_t -\\alpha N_t + \\epsilon_t}$, where ${\\alpha \\in R^+}$\n",
    "\n"
   ]
  },
  {
   "cell_type": "markdown",
   "metadata": {},
   "source": [
    "Denote Value Function for policy $\\pi$ as \n",
    "$${V^\\pi(t, P_t, R_t) = E_\\pi[\\sum_{i=t}^T*N_i(P_i - \\beta N_i)|(t, P_t, R_t)]}$$\n",
    "Optimal Value Function satisfies the Bellman Equation\n",
    "$${V^*(t, P_t, R_t) = max_{N_t}(N_t(P_t - \\beta N_t)) + E[V^*(t+1, P_{t+1}, R_{t+1})]}$$\n",
    "Note ${V^*(T, P_T, R_T) = R_T(P_T - \\beta R_T)}$\n",
    "From the above, we can infer $${V^*(T-1, P_{T-1}, R_{T-1}) = max_{N_{T-1}}(N_{T-1}(P_{T-1} - \\beta N_{T-1}) + E[R_T(P_T - \\beta R_T)])}$$ \n",
    "$${=  max_{N_{T-1}}(N_{T-1}(P_{T-1} - \\beta N_{T-1} + E[R_{T-1} - N_{T-1}(P_T - \\beta(R_{T-1} - N_{T-1}))])}$$\n",
    "$${=  max_{N_{T-1}}(N_{T-1}(P_{T-1} - \\beta N_{T-1} + E[R_{T-1} - N_{T-1}(P_{T-1} -\\alpha N_{T-1} - \\beta(R_{T-1} - N_{T-1}))])}$$\n",
    "Differentiating this expression w.r.t. $N_{T-1}$ and setting it to 0, we get \n",
    "$${N^*_{T-1} = \\frac{R_{T-1}}{2}}$$  \n",
    "Continuing backwards in time in this manner gives:\n",
    "$${N^*_{t} = \\frac{R_t}{T-t+1}}$$\n",
    "\n",
    "From the solution we can see that the o"
   ]
  },
  {
   "cell_type": "code",
   "execution_count": null,
   "metadata": {},
   "outputs": [],
   "source": []
  }
 ],
 "metadata": {
  "kernelspec": {
   "display_name": "Python 3",
   "language": "python",
   "name": "python3"
  },
  "language_info": {
   "codemirror_mode": {
    "name": "ipython",
    "version": 3
   },
   "file_extension": ".py",
   "mimetype": "text/x-python",
   "name": "python",
   "nbconvert_exporter": "python",
   "pygments_lexer": "ipython3",
   "version": "3.6.8"
  }
 },
 "nbformat": 4,
 "nbformat_minor": 2
}
