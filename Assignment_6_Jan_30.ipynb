{
 "cells": [
  {
   "cell_type": "markdown",
   "metadata": {},
   "source": [
    "### MS&E 346 Assignment 6\n",
    "#### January 30"
   ]
  },
  {
   "cell_type": "code",
   "execution_count": 3,
   "metadata": {},
   "outputs": [],
   "source": [
    "import numpy as np\n",
    "from scipy.linalg import eig\n",
    "import copy\n",
    "import math\n",
    "from typing import Dict, Tuple, Sequence"
   ]
  },
  {
   "cell_type": "markdown",
   "metadata": {},
   "source": [
    "#### Question 1:\n",
    "Implement Black-Scholes formulas for European Call/Put Pricing. Implement standard binary tree/grid-based numerical algorithm for American Option Pricing and ensure it validates against Black-Scholes formula for Europeans\n",
    "#### Answer:"
   ]
  },
  {
   "cell_type": "markdown",
   "metadata": {},
   "source": [
    "the underlying asset follows a geometric brownian motion\n",
    "${\\frac{dS_t}{s_t} = \\mu dt + \\sigma dW_t}$\n",
    "The Black-Scholes model:  \n",
    "value of a call: ${SN(d_1) - Ke^{-rt}N(d_2)}$\n",
    "where ${d_1 = \\frac{ln(\\frac{S}{K}) + (r + \\frac{\\sigma^2}{2})t}{\\sigma \\sqrt{t}}}$  \n",
    "${d_2 = d_1 - \\sigma \\sqrt{t}}$"
   ]
  },
  {
   "cell_type": "code",
   "execution_count": 4,
   "metadata": {},
   "outputs": [],
   "source": [
    "class bsmodel:\n",
    "    \"\"\"\n",
    "    The value of a call option in Black-Scholes model can be written as a function of the following variables\n",
    "    S = current value of the underlying asset\n",
    "    K = strike price of the option\n",
    "    t = Life to expiration of the option\n",
    "    r = risk-free rate\n",
    "    sigma = standard deviation in ln value of the underlying asset\n",
    "    \"\"\"\n",
    "    def get_d1_d2(self) -> Tuple:\n",
    "        d1 = (np.log(self.s / self.k) +\n",
    "              (self.r + self.sigma ** 2 / 2.) * self.t) / (self.sigma * np.sqrt(self.t))\n",
    "        d2 = d1 - self.sigma * np.sqrt(self.t)\n",
    "        self.d1 = d1\n",
    "        self.d2 = d2\n",
    "        return d1, d2\n",
    "\n",
    "    def get_option_price(self) -> float:\n",
    "        d1, d2 = self.get_d1_d2()\n",
    "        if self.call:\n",
    "            c = self.s * norm.cdf(d1) - self.k * np.exp(-self.r * self.t) * norm.cdf(d2)\n",
    "        else:\n",
    "            c = self.k * np.exp(-self.r * self.t) * norm.cdf(-d2) - self.spot_price * norm.cdf(-d1)\n",
    "        print (10*\"*\", 'The value of the underlying option is %f.' % c) \n",
    "        return c\n",
    "    \n",
    "    def __init__(self, s, k, r, t, mu, sigma, call=False):\n",
    "        self.s = s\n",
    "        self.k = k\n",
    "        self.r = r\n",
    "        self.t = t\n",
    "        self.mu = mu\n",
    "        self.sigma = sigma\n",
    "        self.call = call\n",
    "        _, _ = self.get_d1_d2()\n",
    "        self.c = get_option_price()\n",
    "        "
   ]
  },
  {
   "cell_type": "markdown",
   "metadata": {},
   "source": [
    "#### Question 2:\n",
    "Implement Longstaff-Schwartz Algorithm and ensure it validates against binary tree/grid-based solution for path-independent options. \n",
    "#### Answer:"
   ]
  },
  {
   "cell_type": "markdown",
   "metadata": {},
   "source": [
    "* m Monte-Carlo paths indexed i = 0, 1, ..., m - 1\n",
    "* n + 1 time steps indexed j = n, n - 1, ..., 1, 0\n",
    "* Infitesimal Risk-free rate at time ${t_j}$ denoted ${r_{t_j}}$\n",
    "* At each time step, ${CF[i]}$ is the present value and future cashflow of path i\n",
    "* ${s_{i,j}}$ denotes state for ${(i,j) := (time t_j, price history SP[i, :(j+1)])}$\n",
    "* Regression function ${f(s_{i,j}) = w \\phi(s_{i,j}) = \\Sigma_{l=0}^{r-1}w_l\\phi_l(S_{i,j})}$"
   ]
  },
  {
   "cell_type": "code",
   "execution_count": 8,
   "metadata": {},
   "outputs": [],
   "source": [
    "# there are m monte-carlo paths and n + 1 time step\n",
    "import sklearn.metrics.pairwise # using rbf_kernel here to list the features of a state\n",
    "from sklearn.linear_model import LinearRegression\n",
    "from numpy.linalg import inv\n",
    "\n",
    "class longstaffschwartz:\n",
    "    def init_weight(self, n):\n",
    "        # initialize the weight to project a hand-crafted kernel to size of n\n",
    "        self.weight = np.random.rand((n, 2 * n))\n",
    "    \n",
    "    def kernel(self, x):\n",
    "        # a self-defined kernel to capture the correlation of the state\n",
    "        length = len(x)\n",
    "        phi_x = np.zeros((2*length, 1))\n",
    "        phi_x[lenght:] = np.array(x)^2\n",
    "        self.kernel_size = phi_x.shape[0]\n",
    "        \n",
    "        return phi_x\n",
    "    \n",
    "    def ls_iterate(self):\n",
    "        for j in range(self.n - 1, 0, -1):\n",
    "            current_risk_free_rate = rate[j]\n",
    "            payoff = copy.deepcopy(cf)\n",
    "            cf[0: self.m] = cf[0: self.m] * np.exp(-current_risk_free_rate)\n",
    "            for i in range(m):\n",
    "                if self.X is None:\n",
    "                    self.X = []\n",
    "                if self.Y is None:\n",
    "                    self.Y = []\n",
    "                if cf[i] > 0:\n",
    "                    X.append(self.kernel(s[i,j]))\n",
    "                    Y.append(self.cf[i])\n",
    "                X = np.asarray(X)\n",
    "                Y = np.asarray(Y)\n",
    "                # the solution of the LSE estimation \n",
    "            self.weight = np.matmul(np.matmul(inv(np.matmul(X.T, X)), X.T),Y)\n",
    "            for i in range(m):\n",
    "                if payoff[i] > np.dot(self.weight, self.kernel(s[i,:])):\n",
    "                    cf[i] = payoff[i] \n",
    "        exer = cf[0]\n",
    "        cont = np.exp(-self.rate[0]) * np.mean(cf)\n",
    "        return np.max(exer, cont)\n",
    "            \n",
    "    \n",
    "    def __init__(self, cf, m, n, rate, s):\n",
    "        self.m = m\n",
    "        self.n = n\n",
    "        self.rate = rate\n",
    "        self.X = None\n",
    "        self.Y = None\n",
    "        self.s = s\n",
    "        # At maturity, the value of an option is hm\n",
    "        if cf is None:\n",
    "            cf = np.random.rand((1,n))\n",
    "        self.cf = cf\n",
    "        # construct the estimation of the continuation value\n",
    "        self.c_m = np.zeros((n + 1, m))\n",
    "        self.c_m_hat = np.zeros((n + 1, m))\n",
    "        self.c_m[n,:] = hm\n",
    "        # initialize the weight matrix\n",
    "        self.init_weight(n)\n",
    "        \n",
    "        \n",
    "        "
   ]
  },
  {
   "cell_type": "code",
   "execution_count": null,
   "metadata": {},
   "outputs": [],
   "source": []
  }
 ],
 "metadata": {
  "kernelspec": {
   "display_name": "Python 3",
   "language": "python",
   "name": "python3"
  },
  "language_info": {
   "codemirror_mode": {
    "name": "ipython",
    "version": 3
   },
   "file_extension": ".py",
   "mimetype": "text/x-python",
   "name": "python",
   "nbconvert_exporter": "python",
   "pygments_lexer": "ipython3",
   "version": "3.7.1"
  }
 },
 "nbformat": 4,
 "nbformat_minor": 2
}
