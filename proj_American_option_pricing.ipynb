{
 "cells": [
  {
   "cell_type": "markdown",
   "metadata": {},
   "source": [
    "#### Learning Exercise Policies for American Option"
   ]
  },
  {
   "cell_type": "markdown",
   "metadata": {},
   "source": [
    "The linear architechture represents the state action function, and LSTD is used to compute an approximation of action value function of the policy. "
   ]
  },
  {
   "cell_type": "code",
   "execution_count": 1,
   "metadata": {},
   "outputs": [],
   "source": [
    "# the data is assumed to be a trajectory in the form of <s1, a1, R1, s2, a2, R2, ..., >\n",
    "import numpy as np\n",
    "from numpy.linalg import inv\n",
    "# collect data\n",
    "MU = 0\n",
    "SIGMA = 0.3\n",
    "\n",
    "s_0 = 12 # initial price of the stock\n",
    "it = 10\n",
    "T = 15\n",
    "K = 12\n",
    "\n",
    "# assume the movement of stock is a brownian motion\n",
    "\n",
    "def next_price(s_0, mu, sigma):\n",
    "    s_t = s_0 + mu + (2 * np.random.rand(1) - 1)*sigma\n",
    "    return s_t[0]\n",
    "\n",
    "def generate_training_data(it, s_0, T = T):\n",
    "    prices = []\n",
    "    for i in range(it): # \n",
    "        trail = []\n",
    "        for j in range(T):\n",
    "            if j == 0:\n",
    "                trail.append(s_0)\n",
    "            else:\n",
    "                trail.append(next_price(trail[-1], MU, SIGMA))\n",
    "        prices.append(trail)\n",
    "    return prices\n"
   ]
  },
  {
   "cell_type": "code",
   "execution_count": 2,
   "metadata": {},
   "outputs": [
    {
     "name": "stdout",
     "output_type": "stream",
     "text": [
      "[[12.         12.15182297 12.08632474 12.09861926 12.12388873 12.24386035\n",
      "  12.17709239 12.03873184 11.8845405  11.76306183 11.57953051 11.74114006\n",
      "  11.68418188 11.73374586 11.98458624]\n",
      " [12.         11.87214538 11.61242249 11.66131234 11.84925861 11.81507867\n",
      "  11.90022835 12.12418025 11.93131697 11.68637294 11.61091583 11.33827057\n",
      "  11.59987489 11.59903701 11.87543592]\n",
      " [12.         12.1756104  11.94977678 11.73382413 11.94781288 12.21384034\n",
      "  11.97112163 11.98932461 11.71232212 11.89447042 12.00135057 11.79656391\n",
      "  11.51693965 11.35256766 11.46035859]\n",
      " [12.         11.97584284 11.68999665 11.94446921 12.14000662 12.37890753\n",
      "  12.16082972 12.14027458 12.36331091 12.62207585 12.54468684 12.60788902\n",
      "  12.51874426 12.64315675 12.66593628]\n",
      " [12.         11.97416433 12.15493933 12.23576947 12.36146407 12.57074218\n",
      "  12.41668167 12.45524528 12.26756535 12.34302599 12.37542955 12.23289888\n",
      "  12.06363308 12.35869408 12.34464621]\n",
      " [12.         11.93281099 12.19762331 12.03271188 11.98621088 12.19203072\n",
      "  12.10150368 12.24817384 12.17429765 12.34301034 12.17065528 12.21676333\n",
      "  12.10157172 11.83279631 11.61549539]\n",
      " [12.         11.96498847 12.2081844  12.23101971 12.20498316 12.00587329\n",
      "  11.94016226 11.84428338 11.62485968 11.7215824  11.77355644 11.56420837\n",
      "  11.76586307 11.79667318 12.08003571]\n",
      " [12.         11.76897102 11.66493365 11.86674646 11.62499734 11.81134422\n",
      "  12.03665617 12.28060029 12.17909276 12.29082024 12.13009013 12.11668152\n",
      "  12.36888721 12.2409805  12.50023175]\n",
      " [12.         12.06069942 12.14017535 12.15136323 12.25451258 12.15411205\n",
      "  12.3941699  12.3183108  12.37214278 12.15904014 12.25372507 12.45444535\n",
      "  12.60225693 12.71153819 12.55220269]\n",
      " [12.         11.94551844 11.70395114 11.78520575 11.63090838 11.90142764\n",
      "  12.1778787  12.27538751 12.44469752 12.21586502 11.98047307 11.82377278\n",
      "  11.99651085 12.15350262 11.94812644]]\n"
     ]
    }
   ],
   "source": [
    "prices = np.array(generate_training_data(it, s_0)) # the trajactory of the stock prices\n",
    "print (prices)"
   ]
  },
  {
   "cell_type": "code",
   "execution_count": 3,
   "metadata": {},
   "outputs": [],
   "source": [
    "# assume American Call option to price\n",
    "def generate_label(traj, K): # K is the strike price\n",
    "    num, T = traj.shape\n",
    "    labels = np.zeros((num, T))\n",
    "    for i in range(num):\n",
    "        exec_price = 0\n",
    "        exec_time = -1\n",
    "        current_traj = traj[i]\n",
    "        for j in range(T):\n",
    "            if (current_traj[j] - K > exec_price):\n",
    "                exec_price = current_traj[j] - K\n",
    "                exec_time = j\n",
    "        labels[i, exec_time] = 1\n",
    "    return labels"
   ]
  },
  {
   "cell_type": "code",
   "execution_count": 4,
   "metadata": {},
   "outputs": [
    {
     "name": "stdout",
     "output_type": "stream",
     "text": [
      "[[0. 0. 0. 0. 0. 1. 0. 0. 0. 0. 0. 0. 0. 0. 0.]\n",
      " [0. 0. 0. 0. 0. 0. 0. 1. 0. 0. 0. 0. 0. 0. 0.]\n",
      " [0. 0. 0. 0. 0. 1. 0. 0. 0. 0. 0. 0. 0. 0. 0.]\n",
      " [0. 0. 0. 0. 0. 0. 0. 0. 0. 0. 0. 0. 0. 0. 1.]\n",
      " [0. 0. 0. 0. 0. 1. 0. 0. 0. 0. 0. 0. 0. 0. 0.]\n",
      " [0. 0. 0. 0. 0. 0. 0. 0. 0. 1. 0. 0. 0. 0. 0.]\n",
      " [0. 0. 0. 1. 0. 0. 0. 0. 0. 0. 0. 0. 0. 0. 0.]\n",
      " [0. 0. 0. 0. 0. 0. 0. 0. 0. 0. 0. 0. 0. 0. 1.]\n",
      " [0. 0. 0. 0. 0. 0. 0. 0. 0. 0. 0. 0. 0. 1. 0.]\n",
      " [0. 0. 0. 0. 0. 0. 0. 0. 1. 0. 0. 0. 0. 0. 0.]]\n"
     ]
    }
   ],
   "source": [
    "labels = generate_label(prices, K)\n",
    "print (labels)"
   ]
  },
  {
   "cell_type": "code",
   "execution_count": 5,
   "metadata": {},
   "outputs": [],
   "source": [
    "class LSPT:\n",
    "    def __init__(self, traj, labels, mu, sigma, w_0 = None, hidden_size = 2):\n",
    "        self.traj = traj\n",
    "        self.labels = labels\n",
    "        self.mu = mu\n",
    "        self.sigma = sigma\n",
    "        if w_0 is None:\n",
    "            self.w = np.random.rand(hidden_size)\n",
    "        else:\n",
    "            self.w = w_0\n",
    "        self.hidden_size = hidden_size\n",
    "        self.EPS = 1e-2\n",
    "        \n",
    "    def get_features(self, price):\n",
    "        features = [price, price*price]\n",
    "        return np.array(features)\n",
    "    \n",
    "    def LSTD(self, i, j):\n",
    "        # generate the return following the current policy\n",
    "        pass\n",
    "    \n",
    "    def inv(self, a):\n",
    "        return (1/a)\n",
    "    \n",
    "    def train(self):\n",
    "        num, T = self.traj.shape\n",
    "        for i in range(num):\n",
    "            current_traj = self.traj[i]\n",
    "            for j in range(T):\n",
    "                current_state = self.get_features(current_traj[j])\n",
    "                next_policy = np.dot(self.w, current_state)\n",
    "                if next_policy - self.labels[i, j] <= self.EPS:\n",
    "                    print ('finish training...')\n",
    "                    return\n",
    "                self.w = self.labels[i, j] * self.inv(current_state)\n",
    "                \n",
    "    def predict(self):\n",
    "        nums, T = self.traj.shape\n",
    "        pred = np.zeros(nums)\n",
    "        for i in range(nums):\n",
    "            exec_time = -1\n",
    "            for j in range(T):\n",
    "                if np.dot(self.w, self.get_features(self.traj[i, j])) == 1:\n",
    "                    exec_time = j\n",
    "            price = np.max(self.traj[i, exec_time] - K, 0)\n",
    "            pred[i] = price\n",
    "        return np.mean(pred)"
   ]
  },
  {
   "cell_type": "code",
   "execution_count": 6,
   "metadata": {},
   "outputs": [],
   "source": [
    "lspt = LSPT(prices, labels, MU, SIGMA)"
   ]
  },
  {
   "cell_type": "code",
   "execution_count": 7,
   "metadata": {},
   "outputs": [
    {
     "name": "stdout",
     "output_type": "stream",
     "text": [
      "finish training...\n"
     ]
    }
   ],
   "source": [
    "lspt.train()"
   ]
  },
  {
   "cell_type": "code",
   "execution_count": 8,
   "metadata": {},
   "outputs": [],
   "source": [
    "pred = lspt.predict()"
   ]
  },
  {
   "cell_type": "code",
   "execution_count": 11,
   "metadata": {},
   "outputs": [
    {
     "name": "stdout",
     "output_type": "stream",
     "text": [
      "The price of such option is 0.1027055221822339\n"
     ]
    }
   ],
   "source": [
    "# this is a very simple example and the hidden size if set to 2\n",
    "# and in reality, more information about the market should be taken into consideration\n",
    "print ('The price of such option is {}'.format(pred))"
   ]
  },
  {
   "cell_type": "code",
   "execution_count": null,
   "metadata": {},
   "outputs": [],
   "source": []
  }
 ],
 "metadata": {
  "kernelspec": {
   "display_name": "Python 3",
   "language": "python",
   "name": "python3"
  },
  "language_info": {
   "codemirror_mode": {
    "name": "ipython",
    "version": 3
   },
   "file_extension": ".py",
   "mimetype": "text/x-python",
   "name": "python",
   "nbconvert_exporter": "python",
   "pygments_lexer": "ipython3",
   "version": "3.6.8"
  }
 },
 "nbformat": 4,
 "nbformat_minor": 2
}
